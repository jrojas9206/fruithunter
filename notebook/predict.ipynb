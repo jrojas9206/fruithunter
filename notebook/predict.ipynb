{
 "cells": [
  {
   "cell_type": "markdown",
   "id": "pediatric-blend",
   "metadata": {},
   "source": [
    "# Predictions\n",
    "## RandLA-NET"
   ]
  },
  {
   "cell_type": "code",
   "execution_count": null,
   "id": "marine-colors",
   "metadata": {},
   "outputs": [],
   "source": [
    "import sys \n",
    "sys.path.append(\"./utils/\")\n",
    "from utils.main_apple_tree import *"
   ]
  },
  {
   "cell_type": "code",
   "execution_count": null,
   "id": "digital-evans",
   "metadata": {},
   "outputs": [],
   "source": [
    "path2data_rnet = \"data/example2notebook_realdata/dataToRDNET/\"  # Data to predict\n",
    "path2model_rnet= \"models/randlanet/continue_training_jitter08_rw0_8realTrees/snapshots/snap-8501\" # Trained model \n",
    "                                                                                                    # to load\n",
    "# The predicted labels are at the moment in the test folder"
   ]
  },
  {
   "cell_type": "code",
   "execution_count": null,
   "id": "certified-murder",
   "metadata": {},
   "outputs": [],
   "source": [
    "# Arguments for the model\n",
    "param = {\"gpu\":0, # -1 no GPU\n",
    "         \"mode\":\"test\",  # to Predict\n",
    "         \"model_path\":path2model_rnet, \n",
    "         \"path2data\":path2data_rnet, \n",
    "         \"path2output\": \"./\", # This arg only works to save the training \n",
    "         \"protocol\":\"field_only_xyz\", \n",
    "         \"restoreTrain\":None}  \n",
    "# NOTE: Ensure that the subsampling points in the training are the same for the prediction[test]"
   ]
  },
  {
   "cell_type": "code",
   "execution_count": null,
   "id": "intensive-breakfast",
   "metadata": {},
   "outputs": [],
   "source": [
    "# Methods to execute \n",
    "if(param[\"protocol\"] == \"synthetic\"):\n",
    "    train_synthetic_HiHiRes(param[\"path2data\"], param[\"path2output\"], parameters=param)\n",
    "elif(param[\"protocol\"] == \"field_only_xyz\"):\n",
    "    train_field_only_xyz(param[\"path2data\"], param[\"path2output\"], parameters=param)\n",
    "elif(param[\"protocol\"] == \"field\"):\n",
    "    train_field(param[\"path2data\"], param[\"path2output\"], parameters=param)\n",
    "else:\n",
    "    print(\"-> Error: Unknow options, please execute the following command and verify the defined args. \\n$$>python main_apple_tree.py -h\")"
   ]
  },
  {
   "cell_type": "code",
   "execution_count": null,
   "id": "eight-school",
   "metadata": {},
   "outputs": [],
   "source": [
    "# Merge labels \n",
    "# NOTE: RandLA-NET write the probabilities and the labels of each point cloud on different files, \n",
    "# To visualize the classification the predicted classes and the point cloud are going to be merged \n",
    "from utils.merge_label_apple import *"
   ]
  },
  {
   "cell_type": "code",
   "execution_count": null,
   "id": "handmade-treat",
   "metadata": {},
   "outputs": [],
   "source": [
    "path2prediction = \"test/Log_2021-02-01_06-02-17/predictions/\" # The name of the folder always is \n",
    "                                                              # going to change with the date\n",
    "path2data = os.path.join(param[\"path2data\"], ,\"test/\")\n",
    "output = os.path.join(path2data, \"merged/\")\n",
    "\n",
    "merge_pointCloudAndLabels(path2data, \"./test/\", output)"
   ]
  },
  {
   "cell_type": "markdown",
   "id": "latin-going",
   "metadata": {},
   "source": [
    "## Random Forest "
   ]
  },
  {
   "cell_type": "code",
   "execution_count": null,
   "id": "comparative-column",
   "metadata": {},
   "outputs": [],
   "source": [
    "from predict import predict \n",
    "from RFClassifier import RFClassifier"
   ]
  },
  {
   "cell_type": "code",
   "execution_count": null,
   "id": "engaged-porter",
   "metadata": {},
   "outputs": [],
   "source": [
    "model = RFClassifier\n",
    "model_weights = \"data/example2notebook_realdata/model_rf.sav\"\n",
    "path2data = \"data/example2notebook_realdata/dataToRDF/test/\"\n",
    "path2output = os.path.join(path2data, \"prediction/\")"
   ]
  },
  {
   "cell_type": "code",
   "execution_count": null,
   "id": "brilliant-cowboy",
   "metadata": {},
   "outputs": [],
   "source": [
    "predict(model, model_weights, path2data, path2output)"
   ]
  },
  {
   "cell_type": "code",
   "execution_count": null,
   "id": "heard-configuration",
   "metadata": {},
   "outputs": [],
   "source": []
  }
 ],
 "metadata": {
  "kernelspec": {
   "display_name": "Python 3",
   "language": "python",
   "name": "python3"
  },
  "language_info": {
   "codemirror_mode": {
    "name": "ipython",
    "version": 3
   },
   "file_extension": ".py",
   "mimetype": "text/x-python",
   "name": "python",
   "nbconvert_exporter": "python",
   "pygments_lexer": "ipython3",
   "version": "3.6.12"
  }
 },
 "nbformat": 4,
 "nbformat_minor": 5
}
