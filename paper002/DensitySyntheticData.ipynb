{
 "cells": [
  {
   "cell_type": "code",
   "execution_count": 9,
   "id": "f39006ee",
   "metadata": {},
   "outputs": [],
   "source": [
    "import os \n",
    "import seaborn as sns\n",
    "import numpy as np \n",
    "from scipy.stats import norm\n",
    "import matplotlib.pyplot as plt \n",
    "from pointCloudsDescriptor import PointCloudFEvaluator\n",
    "%matplotlib inline"
   ]
  },
  {
   "cell_type": "code",
   "execution_count": null,
   "id": "869ef9b3",
   "metadata": {},
   "outputs": [],
   "source": [
    "fnameS_j01 = \"/media/juan/jprb/PhD_2020_2023/Data/synthetic_experiments_jitter_raywidth_juan/orderedSynthetic/synthetic_exp/jitter01_rw0/all_splitted/synthetic_14.txt\"\n",
    "fnameS_j04 = \"/media/juan/jprb/PhD_2020_2023/Data/synthetic_experiments_jitter_raywidth_juan/orderedSynthetic/synthetic_exp/jitter04_rw0/all_splitted/synthetic_14.txt\"\n",
    "fnameS_j08 = \"/media/juan/jprb/PhD_2020_2023/Data/synthetic_experiments_jitter_raywidth_juan/orderedSynthetic/synthetic_exp/jitter08_rw0/all_splitted/_synthetic_14.txt\"\n",
    "\n",
    "\n",
    "oS = PointCloudFEvaluator()\n",
    "pcS_j01 = np.loadtxt(fnameS_j01)\n",
    "pcS_j04 = np.loadtxt(fnameS_j04)\n",
    "pcS_j08 = np.loadtxt(fnameS_j08)\n",
    "\n",
    "densListS_j01 = oS.get_point_cloud_avg_density(pcS_j01)\n",
    "densListS_j04 = oS.get_point_cloud_avg_density(pcS_j04)\n",
    "densListS_j08 = oS.get_point_cloud_avg_density(pcS_j08)"
   ]
  },
  {
   "cell_type": "code",
   "execution_count": null,
   "id": "3fe8d887",
   "metadata": {},
   "outputs": [],
   "source": [
    "sns.displot(densListS_j01, bins=20,)\n",
    "sns.displot(densListS_j04, bins=20)\n",
    "sns.displot(densListS_j08, bins=20)\n",
    "#sns.distplot(densListS_j04, hist = True, kde = True, bins=20)\n",
    "#sns.distplot(densListS_j08, hist = True, kde = True, bins=20)\n",
    "#plt.legend([\"J01RW0\", \"J04RW0\", \"J08RW0\"])\n",
    "plt.xlabel(\"Density\")\n",
    "plt.ylabel(\"Frequency\")"
   ]
  },
  {
   "cell_type": "code",
   "execution_count": null,
   "id": "8ad1611f",
   "metadata": {},
   "outputs": [],
   "source": [
    "# Normalize \n",
    "\n",
    "weights_j01 = np.ones_like(densListS_j01) / float(len(densListS_j01))\n",
    "weights_j04 = np.ones_like(densListS_j04) / float(len(densListS_j04))\n",
    "weights_j08 = np.ones_like(densListS_j08) / float(len(densListS_j08))\n",
    "\n",
    "n1, bins1, _ = plt.hist(densListS_j01, bins=80, alpha=0.5, )#histtype='step' \n",
    "n4, bins4, _ = plt.hist(densListS_j04, bins=80, alpha=0.5, )\n",
    "n8, bins8, _ = plt.hist(densListS_j08, bins=80, alpha=0.5, )\n",
    "\n",
    "plt.legend([\"J01RW0\",\"J04RW0\",\"J08RW0\"])"
   ]
  },
  {
   "cell_type": "code",
   "execution_count": null,
   "id": "37de4860",
   "metadata": {},
   "outputs": [],
   "source": [
    "plt.plot(bins1[0:len(n1)], n1, 'b-')\n",
    "plt.plot(bins4[0:len(n4)], n4, 'r-')\n",
    "plt.plot(bins8[0:len(n8)], n8, 'g-')\n",
    "plt.legend([\"J01RW0\",\"J04RW0\",\"J08RW0\"])\n",
    "plt.show()"
   ]
  },
  {
   "cell_type": "code",
   "execution_count": null,
   "id": "8f194e84",
   "metadata": {},
   "outputs": [],
   "source": [
    "fnameSrw0 = \"/media/juan/jprb/PhD_2020_2023/Data/synthetic_experiments_jitter_raywidth_juan/orderedSynthetic/synthetic_exp/jitter001_rw0/all_splited/_synthetic_14.txt\"\n",
    "pcSrw0 = np.loadtxt(fnameSrw0)\n",
    "densListSrw0 = oS.get_point_cloud_avg_density(pcSrw0)"
   ]
  },
  {
   "cell_type": "code",
   "execution_count": null,
   "id": "a8133379",
   "metadata": {},
   "outputs": [],
   "source": [
    "fnameSrw1 = \"/media/juan/jprb/PhD_2020_2023/Data/synthetic_experiments_jitter_raywidth_juan/orderedSynthetic/synthetic_exp/jitter001_rw1/all_splitted/synthetic_14.txt\"\n",
    "pcSrw1 = np.loadtxt(fnameSrw1)\n",
    "densListSrw1 = oS.get_point_cloud_avg_density(pcSrw1)"
   ]
  },
  {
   "cell_type": "code",
   "execution_count": null,
   "id": "a68a315a",
   "metadata": {},
   "outputs": [],
   "source": [
    "fnameSrw2 = \"/media/juan/jprb/PhD_2020_2023/Data/synthetic_experiments_jitter_raywidth_juan/orderedSynthetic/synthetic_exp/jitter001_rw2/all_splitted/synthetic_14.txt\"\n",
    "pcSrw2 = np.loadtxt(fnameSrw2)\n",
    "densListSrw2 = oS.get_point_cloud_avg_density(pcSrw2)"
   ]
  },
  {
   "cell_type": "code",
   "execution_count": null,
   "id": "50cf0d8c",
   "metadata": {},
   "outputs": [],
   "source": [
    "sns.distplot(densListSrw0, hist = False, kde = True, bins=20)\n",
    "sns.distplot(densListSrw1, hist = False, kde = True, bins=20)\n",
    "sns.distplot(densListSrw2, hist = False, kde = True, bins=20)\n",
    "plt.legend([\"J001RW0\",\"J001RW1\",\"J001RW2\"])\n",
    "plt.xlabel(\"Density\")\n",
    "plt.ylabel(\"Frequency\")"
   ]
  },
  {
   "cell_type": "code",
   "execution_count": null,
   "id": "29657d5b",
   "metadata": {},
   "outputs": [],
   "source": [
    "sns.distplot(densListS_j01, hist = False, kde = True, bins=20)\n",
    "sns.distplot(densListS_j04, hist = False, kde = True, bins=20)\n",
    "sns.distplot(densListS_j08, hist = False, kde = True, bins=20)\n",
    "sns.distplot(densListSrw0, hist = False, kde = True, bins=20)\n",
    "sns.distplot(densListSrw1, hist = False, kde = True, bins=20)\n",
    "sns.distplot(densListSrw2, hist = False, kde = True, bins=20)\n",
    "plt.legend([\"J01RW0\", \"J04RW0\", \"J08RW0\", \"J001RW0\",\"J001RW1\",\"J001RW2\"])\n",
    "plt.xlabel(\"Density\")\n",
    "plt.ylabel(\"Frequency\")"
   ]
  },
  {
   "cell_type": "code",
   "execution_count": 3,
   "id": "5617888c",
   "metadata": {},
   "outputs": [
    {
     "name": "stdout",
     "output_type": "stream",
     "text": [
      "Found files[lst_2j001RW0]: 235\n",
      "Found files[lst_2j001RW1]: 235\n",
      "Found files[lst_2j001RW2]: 235\n",
      "\n",
      "Found files[lst_2j01RW0]: 235\n",
      "Found files[lst_2j02RW0]: 235\n",
      "Found files[lst_2j03RW0]: 235\n",
      "Found files[lst_2j04RW0]: 235\n",
      "Found files[lst_2j05RW0]: 235\n",
      "Found files[lst_2j06RW0]: 235\n",
      "Found files[lst_2j07RW0]: 235\n",
      "Found files[lst_2j08RW0]: 235\n",
      "\n",
      "Found files[RealNoFloor]: 10\n"
     ]
    }
   ],
   "source": [
    "import glob \n",
    "base2synthetic = \"/media/juan/jprb/PhD_2020_2023/Data/synthetic_experiments_jitter_raywidth_juan/orderedSynthetic/synthetic_exp/\"\n",
    "# Ray width file list \n",
    "path2synthetic_j001_rw0 = os.path.join(base2synthetic, \"jitter001_rw0/all_splited/\")\n",
    "path2synthetic_j001_rw1 = os.path.join(base2synthetic, \"jitter001_rw0/all_splited\")\n",
    "path2synthetic_j001_rw2 = os.path.join(base2synthetic, \"jitter001_rw0/all_splited\")\n",
    "lst_file_s_j001_rw0 = glob.glob(os.path.join(path2synthetic_j001_rw0, \"*.txt\"))\n",
    "lst_file_s_j001_rw1 = glob.glob(os.path.join(path2synthetic_j001_rw1, \"*.txt\"))\n",
    "lst_file_s_j001_rw2 = glob.glob(os.path.join(path2synthetic_j001_rw2, \"*.txt\"))\n",
    "# Jitter Raywidth list \n",
    "path_base = \"/media/juan/jprb/PhD_2020_2023/Data/synthetic_experiments_jitter_raywidth_juan/orderedSynthetic/synthetic_exp\"\n",
    "lst_2j01RW0 = glob.glob(os.path.join(path_base, \"jitter01_rw0/all_splitted/*.txt\"))\n",
    "lst_2j02RW0 = glob.glob(os.path.join(path_base, \"jitter02_rw0/all_splitted/*.txt\"))\n",
    "lst_2j03RW0 = glob.glob(os.path.join(path_base, \"jitter03_rw0/all_splitted/*.txt\"))\n",
    "lst_2j04RW0 = glob.glob(os.path.join(path_base, \"jitter04_rw0/all_splitted/*.txt\"))\n",
    "lst_2j05RW0 = glob.glob(os.path.join(path_base, \"jitter05_rw0/all_splitted/*.txt\"))\n",
    "lst_2j06RW0 = glob.glob(os.path.join(path_base, \"jitter06_rw0/all_splitted/*.txt\"))\n",
    "lst_2j07RW0 = glob.glob(os.path.join(path_base, \"jitter07_rw0/all_splitted/*.txt\"))\n",
    "lst_2j08RW0 = glob.glob(os.path.join(path_base, \"jitter08_rw0/all_splitted/*.txt\"))\n",
    "# Real trees \n",
    "path_real_noFloor = \"/media/juan/jprb/PhD_2020_2023/Data/data2fruithunter/annotated_trees_withRadiometricFeatures/\"\n",
    "lst_realNoFl = glob.glob(os.path.join(path_real_noFloor, \"*.txt\"))\n",
    "# Print \n",
    "\n",
    "\n",
    "print(\"Found files[lst_2j001RW0]: %i\" %(len(lst_file_s_j001_rw0)))\n",
    "print(\"Found files[lst_2j001RW1]: %i\" %(len(lst_file_s_j001_rw1)))\n",
    "print(\"Found files[lst_2j001RW2]: %i\\n\" %(len(lst_file_s_j001_rw2)))\n",
    "\n",
    "print(\"Found files[lst_2j01RW0]: %i\" %(len(lst_2j01RW0)))\n",
    "print(\"Found files[lst_2j02RW0]: %i\" %(len(lst_2j02RW0)))\n",
    "print(\"Found files[lst_2j03RW0]: %i\" %(len(lst_2j03RW0)))\n",
    "print(\"Found files[lst_2j04RW0]: %i\" %(len(lst_2j04RW0)))\n",
    "print(\"Found files[lst_2j05RW0]: %i\" %(len(lst_2j05RW0)))\n",
    "print(\"Found files[lst_2j06RW0]: %i\" %(len(lst_2j06RW0)))\n",
    "print(\"Found files[lst_2j07RW0]: %i\" %(len(lst_2j07RW0)))\n",
    "print(\"Found files[lst_2j08RW0]: %i\\n\" %(len(lst_2j08RW0)))\n",
    "\n",
    "print(\"Found files[RealNoFloor]: %i\" %(len(lst_realNoFl)))\n"
   ]
  },
  {
   "cell_type": "code",
   "execution_count": 10,
   "id": "770d380a",
   "metadata": {},
   "outputs": [
    {
     "name": "stdout",
     "output_type": "stream",
     "text": [
      "file[235/235]\r"
     ]
    }
   ],
   "source": [
    "oS = PointCloudFEvaluator()\n",
    "# Synthetic ray width and jitter -- Merged List  \n",
    "dic2plot = {}\n",
    "\n",
    "merged_list_rw = [lst_file_s_j001_rw0, lst_file_s_j001_rw1, lst_file_s_j001_rw2]\n",
    "merged_list_jt = [lst_2j01RW0, lst_2j02RW0, lst_2j03RW0, lst_2j04RW0, lst_2j05RW0, lst_2j06RW0,\n",
    "               lst_2j07RW0, lst_2j08RW0]\n",
    "\n",
    "\n",
    "for  idx1, afile in enumerate(lst_file_s_j001_rw0):\n",
    "    print(\"file[%i/%i]\" %(idx1+1, len(lst_file_s_j001_rw0)), end=\"\\r\" if (idx1<len(lst_file_s_j001_rw0)) else \"\\n\" )\n",
    "    a_pc = np.loadtxt(afile)[:,0:3]\n",
    "    alsDens = oS.get_point_cloud_avg_density(a_pc)\n",
    "    if(idx1 not in dic2plot.keys()):\n",
    "        dic2plot[idx1] = [alsDens]\n",
    "    else:\n",
    "        dic2plot[idx1].append( alsDens )\n"
   ]
  },
  {
   "cell_type": "code",
   "execution_count": 25,
   "id": "568280e6",
   "metadata": {},
   "outputs": [
    {
     "data": {
      "image/png": "[encoded data removed]",
      "text/plain": [
       "<Figure size 432x288 with 1 Axes>"
      ]
     },
     "metadata": {
      "needs_background": "light"
     },
     "output_type": "display_data"
    }
   ],
   "source": [
    "n_syn_rw, bins_syn_rw, _  = plt.hist(dic2plot[4], bins=80, alpha=0.5 )"
   ]
  },
  {
   "cell_type": "code",
   "execution_count": 29,
   "id": "c0a6b067",
   "metadata": {},
   "outputs": [
    {
     "name": "stdout",
     "output_type": "stream",
     "text": [
      "12337752\n"
     ]
    }
   ],
   "source": [
    "a = []\n",
    "for ikey in dic2plot.keys():\n",
    "    a =  a + dic2plot[ikey][0]\n"
   ]
  },
  {
   "cell_type": "code",
   "execution_count": 33,
   "id": "77edfa51",
   "metadata": {},
   "outputs": [
    {
     "data": {
      "image/png": "[encoded data removed]",
      "text/plain": [
       "<Figure size 432x288 with 1 Axes>"
      ]
     },
     "metadata": {
      "needs_background": "light"
     },
     "output_type": "display_data"
    }
   ],
   "source": [
    "weights_synthetic = np.ones_like(a) / float(len(a))\n",
    "n_syn_rw, bins_syn_rw, _  = plt.hist(a, bins=80, alpha=0.5, weights=weights_synthetic )"
   ]
  },
  {
   "cell_type": "code",
   "execution_count": null,
   "id": "d2df3abe",
   "metadata": {},
   "outputs": [],
   "source": []
  },
  {
   "cell_type": "code",
   "execution_count": null,
   "id": "9a646635",
   "metadata": {},
   "outputs": [],
   "source": [
    "merged_list_jt = [lst_2j01RW0, lst_2j02RW0, lst_2j03RW0, lst_2j04RW0, lst_2j05RW0, lst_2j06RW0,\n",
    "               lst_2j07RW0, lst_2j08RW0]"
   ]
  }
 ],
 "metadata": {
  "kernelspec": {
   "display_name": "Python 3",
   "language": "python",
   "name": "python3"
  },
  "language_info": {
   "codemirror_mode": {
    "name": "ipython",
    "version": 3
   },
   "file_extension": ".py",
   "mimetype": "text/x-python",
   "name": "python",
   "nbconvert_exporter": "python",
   "pygments_lexer": "ipython3",
   "version": "3.8.8"
  }
 },
 "nbformat": 4,
 "nbformat_minor": 5
}
