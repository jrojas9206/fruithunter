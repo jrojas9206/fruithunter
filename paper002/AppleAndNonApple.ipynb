{
 "cells": [
  {
   "cell_type": "code",
   "execution_count": 1,
   "id": "4117106b",
   "metadata": {},
   "outputs": [],
   "source": [
    "import os \n",
    "import glob \n",
    "path_real = \"/media/juan/jprb/PhD_2020_2023/Data/pc_2018_08_02_L01_P18_filtered_apples2annotated_noFloor\"\n",
    "lst_real  = glob.glob(os.path.join(path_real, \"*.txt\"))\n",
    "# Jitter \n",
    "path_base = \"/media/juan/jprb/PhD_2020_2023/Data/synthetic_experiments_jitter_raywidth_juan/orderedSynthetic/synthetic_exp\"\n",
    "lst_2j01RW0 = glob.glob(os.path.join(path_base, \"jitter01_rw0/all_splitted/*.txt\"))\n",
    "lst_2j02RW0 = glob.glob(os.path.join(path_base, \"jitter02_rw0/all_splitted/*.txt\"))\n",
    "lst_2j03RW0 = glob.glob(os.path.join(path_base, \"jitter03_rw0/all_splitted/*.txt\"))\n",
    "lst_2j04RW0 = glob.glob(os.path.join(path_base, \"jitter04_rw0/all_splitted/*.txt\"))\n",
    "lst_2j05RW0 = glob.glob(os.path.join(path_base, \"jitter05_rw0/all_splitted/*.txt\"))\n",
    "lst_2j06RW0 = glob.glob(os.path.join(path_base, \"jitter06_rw0/all_splitted/*.txt\"))\n",
    "lst_2j07RW0 = glob.glob(os.path.join(path_base, \"jitter07_rw0/all_splitted/*.txt\"))\n",
    "lst_2j08RW0 = glob.glob(os.path.join(path_base, \"jitter08_rw0/all_splitted/*.txt\"))\n",
    "# Ray width \n",
    "base2synthetic = \"/media/juan/jprb/PhD_2020_2023/Data/synthetic_experiments_jitter_raywidth_juan/orderedSynthetic/synthetic_exp/\"\n",
    "# Ray width file list \n",
    "path2synthetic_j001_rw0 = os.path.join(base2synthetic, \"jitter001_rw0/all_splited/\")\n",
    "path2synthetic_j001_rw1 = os.path.join(base2synthetic, \"jitter001_rw1/all_splitted\")\n",
    "path2synthetic_j001_rw2 = os.path.join(base2synthetic, \"jitter001_rw2/all_splitted\")\n",
    "lst_file_s_j001_rw0 = glob.glob(os.path.join(path2synthetic_j001_rw0, \"*.txt\"))\n",
    "lst_file_s_j001_rw1 = glob.glob(os.path.join(path2synthetic_j001_rw1, \"*.txt\"))\n",
    "lst_file_s_j001_rw2 = glob.glob(os.path.join(path2synthetic_j001_rw2, \"*.txt\"))"
   ]
  },
  {
   "cell_type": "code",
   "execution_count": 2,
   "id": "9c723675",
   "metadata": {},
   "outputs": [
    {
     "name": "stdout",
     "output_type": "stream",
     "text": [
      "Found files[lst_2j001RW0]: 235\n",
      "Found files[lst_2j001RW1]: 235\n",
      "Found files[lst_2j001RW2]: 235\n",
      "\n",
      "Found files[lst_2j01RW0]: 235\n",
      "Found files[lst_2j02RW0]: 235\n",
      "Found files[lst_2j03RW0]: 235\n",
      "Found files[lst_2j04RW0]: 235\n",
      "Found files[lst_2j05RW0]: 235\n",
      "Found files[lst_2j06RW0]: 235\n",
      "Found files[lst_2j07RW0]: 235\n",
      "Found files[lst_2j08RW0]: 235\n",
      "\n",
      "Found files[RealNoFloor]: 9\n"
     ]
    }
   ],
   "source": [
    "print(\"Found files[lst_2j001RW0]: %i\" %(len(lst_file_s_j001_rw0)))\n",
    "print(\"Found files[lst_2j001RW1]: %i\" %(len(lst_file_s_j001_rw1)))\n",
    "print(\"Found files[lst_2j001RW2]: %i\\n\" %(len(lst_file_s_j001_rw2)))\n",
    "\n",
    "print(\"Found files[lst_2j01RW0]: %i\" %(len(lst_2j01RW0)))\n",
    "print(\"Found files[lst_2j02RW0]: %i\" %(len(lst_2j02RW0)))\n",
    "print(\"Found files[lst_2j03RW0]: %i\" %(len(lst_2j03RW0)))\n",
    "print(\"Found files[lst_2j04RW0]: %i\" %(len(lst_2j04RW0)))\n",
    "print(\"Found files[lst_2j05RW0]: %i\" %(len(lst_2j05RW0)))\n",
    "print(\"Found files[lst_2j06RW0]: %i\" %(len(lst_2j06RW0)))\n",
    "print(\"Found files[lst_2j07RW0]: %i\" %(len(lst_2j07RW0)))\n",
    "print(\"Found files[lst_2j08RW0]: %i\\n\" %(len(lst_2j08RW0)))\n",
    "\n",
    "print(\"Found files[RealNoFloor]: %i\" %(len(lst_real)))"
   ]
  },
  {
   "cell_type": "code",
   "execution_count": 9,
   "id": "28984212",
   "metadata": {},
   "outputs": [
    {
     "name": "stdout",
     "output_type": "stream",
     "text": [
      "STD apples: 9841.2829\n",
      "AVG apples: 9853.3333\n",
      "STD Non-apples: 303832.5340\n",
      "AVG Non-apples: 437075.5556\n"
     ]
    }
   ],
   "source": [
    "import numpy as np \n",
    "import statistics as sts\n",
    "# Apples on real scans \n",
    "apple_pts_real = []\n",
    "NoNapple_pts_real = []\n",
    "for afile in lst_real:\n",
    "    a_pc = np.loadtxt(afile)\n",
    "    idx_apple    = np.where( a_pc[:, 6]==1 )\n",
    "    idx_NoNapple = np.where( a_pc[:, 6]!=1 )\n",
    "    apple_pts_real.append( len(idx_apple[0]) )\n",
    "    NoNapple_pts_real.append( len(idx_NoNapple[0]) )\n",
    "\n",
    "print(\"STD apples: %.4f\" %( sts.stdev(apple_pts_real) ) )\n",
    "print(\"AVG apples: %.4f\" %( sts.mean(apple_pts_real) ) )\n",
    "print(\"STD Non-apples: %.4f\" %( sts.stdev(NoNapple_pts_real) ) )\n",
    "print(\"AVG Non-apples: %.4f\" %( sts.mean(NoNapple_pts_real) ) )\n",
    "    "
   ]
  },
  {
   "cell_type": "code",
   "execution_count": 15,
   "id": "2dee58af",
   "metadata": {},
   "outputs": [
    {
     "name": "stdout",
     "output_type": "stream",
     "text": [
      "STD apples: 8327.4779\n",
      "AVG apples: 9581.7234\n",
      "STD Non-apples: 35307.4152\n",
      "AVG Non-apples: 42919.3489\n"
     ]
    }
   ],
   "source": [
    "# Apples on Synthetic \n",
    "apple_pts_real = []\n",
    "NoNapple_pts_real = []\n",
    "for afile in lst_2j01RW0: # Change the list here!!!! \n",
    "    a_pc = np.loadtxt(afile)\n",
    "    idx_apple    = np.where( a_pc[:, 3]==1 )\n",
    "    idx_NoNapple = np.where( a_pc[:, 3]!=1 )\n",
    "    apple_pts_real.append( len(idx_apple[0]) )\n",
    "    NoNapple_pts_real.append( len(idx_NoNapple[0]) )\n",
    "\n",
    "print(\"STD apples: %.4f\" %( sts.stdev(apple_pts_real) ) )\n",
    "print(\"AVG apples: %.4f\" %( sts.mean(apple_pts_real) ) )\n",
    "print(\"STD Non-apples: %.4f\" %( sts.stdev(NoNapple_pts_real) ) )\n",
    "print(\"AVG Non-apples: %.4f\" %( sts.mean(NoNapple_pts_real) ) )\n",
    "    "
   ]
  },
  {
   "cell_type": "code",
   "execution_count": null,
   "id": "b9eee92e",
   "metadata": {},
   "outputs": [],
   "source": []
  }
 ],
 "metadata": {
  "kernelspec": {
   "display_name": "Python 3",
   "language": "python",
   "name": "python3"
  },
  "language_info": {
   "codemirror_mode": {
    "name": "ipython",
    "version": 3
   },
   "file_extension": ".py",
   "mimetype": "text/x-python",
   "name": "python",
   "nbconvert_exporter": "python",
   "pygments_lexer": "ipython3",
   "version": "3.8.8"
  }
 },
 "nbformat": 4,
 "nbformat_minor": 5
}
