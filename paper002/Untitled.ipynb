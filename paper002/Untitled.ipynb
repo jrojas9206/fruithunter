{
 "cells": [
  {
   "cell_type": "markdown",
   "id": "eac46675",
   "metadata": {},
   "source": [
    "# Density "
   ]
  },
  {
   "cell_type": "code",
   "execution_count": 2,
   "id": "aca68899",
   "metadata": {},
   "outputs": [],
   "source": [
    "import numpy as np \n",
    "from pointCloudsDescriptor import PointCloudFEvaluator\n",
    "\n",
    "oS = PointCloudFEvaluator()\n",
    "fname = \"/media/juan/jprb/PhD_2020_2023/Data/annotated_data_realTrees/tree_2018_08_02_L01_P10_filtered_labeled.txt\"\n",
    "\n",
    "pc = np.loadtxt(fname)\n",
    "densList = oS.get_point_cloud_avg_density(pc)\n"
   ]
  },
  {
   "cell_type": "code",
   "execution_count": null,
   "id": "4e31da19",
   "metadata": {},
   "outputs": [],
   "source": [
    "import seaborn as sns \n",
    "import matplotlib.pyplot as plt \n",
    "%matplotlib inline\n",
    "\n",
    "#sns.distplot(densList, hist = False, kde = True, bins=20)\n",
    "plt.hist(densList, bins=20)\n",
    "plt.legend([\"Real Scan\", \"J001RW0\", \"J001RW1\", \"J001RW2\"])\n",
    "plt.xlabel(\"Density\")\n",
    "plt.ylabel(\"Frequency\")\n",
    "\n"
   ]
  },
  {
   "cell_type": "code",
   "execution_count": 8,
   "id": "d2503b44",
   "metadata": {},
   "outputs": [],
   "source": [
    "fname2 = \"/media/juan/jprb/PhD_2020_2023/Data/annotated_data_realTrees/tree_2019_09_11_L08_P02_high_quality_filtered_labeled.txt\"\n",
    "pc2 = np.loadtxt(fname2)\n",
    "densList2 = oS.get_point_cloud_avg_density(pc2)"
   ]
  },
  {
   "cell_type": "code",
   "execution_count": null,
   "id": "202280b4",
   "metadata": {},
   "outputs": [],
   "source": []
  }
 ],
 "metadata": {
  "kernelspec": {
   "display_name": "Python 3",
   "language": "python",
   "name": "python3"
  },
  "language_info": {
   "codemirror_mode": {
    "name": "ipython",
    "version": 3
   },
   "file_extension": ".py",
   "mimetype": "text/x-python",
   "name": "python",
   "nbconvert_exporter": "python",
   "pygments_lexer": "ipython3",
   "version": "3.8.8"
  }
 },
 "nbformat": 4,
 "nbformat_minor": 5
}
