{
 "cells": [
  {
   "cell_type": "code",
   "execution_count": 1,
   "id": "blocked-belief",
   "metadata": {},
   "outputs": [],
   "source": [
    "import os \n",
    "import sys \n",
    "import glob \n",
    "import numpy as np \n",
    "from math import *\n",
    "from pointCloudsDescriptor import PointCloudFEvaluator\n",
    "\n",
    "%matplotlib inline \n",
    "import matplotlib.pyplot as plt "
   ]
  },
  {
   "cell_type": "markdown",
   "id": "neither-payroll",
   "metadata": {},
   "source": [
    "# Methods definition - plot histograms"
   ]
  },
  {
   "cell_type": "code",
   "execution_count": null,
   "id": "quantitative-jungle",
   "metadata": {},
   "outputs": [],
   "source": [
    "def plot_comparison(datas, nbbins = 80):\n",
    "    \"\"\"\n",
    "    Estimate and compare the histograms of different point clouds \n",
    "    NOTE: Like in the process all the densities are mixed, the scale of the \n",
    "    frequencies wont be 1\n",
    "    :Arguments:\n",
    "        :datas: dict, {'histName0': list(densities0), ...., \"histNameN\": list(densitiesN) }\n",
    "        :nbbins: int, number of bins to calculate \n",
    "    \"\"\"\n",
    "    _, globalbins = np.histogram(np.concatenate(list(datas.values())), bins=nbbins)\n",
    "    plt.figure(figsize=(15,5))\n",
    "    for name, idensities in datas.items():\n",
    "        hist, bins = np.histogram(idensities, bins=globalbins)\n",
    "        hist = hist/len(idensities)\n",
    "        bins = bins / 10**6\n",
    "        width = np.diff(bins)\n",
    "        binscenters = (bins[:-1] + bins[1:]) / 2 \n",
    "        plt.bar(binscenters, hist, align='center', width=width, alpha=0.5)\n",
    "        plt.plot(bins[:-1]+width/2, hist, label = name)\n",
    "    plt.legend()"
   ]
  },
  {
   "cell_type": "code",
   "execution_count": null,
   "id": "minimal-excuse",
   "metadata": {},
   "outputs": [],
   "source": [
    "def compare_densities(dicDensities, nbins=80):\n",
    "    maxDensities_freq = 0\n",
    "    _, bins_of_ref = np.histogram(np.concatenate(list(dicDensities.values())), bins=nbins)\n",
    "    legends = []\n",
    "    maxFreqPc = \"\"\n",
    "    # Select the frequencie of reference \n",
    "    for a_key in dicDensities.keys():\n",
    "        a_freq, _ = np.histogram(dicDensities[a_key], bins=bins_of_ref)\n",
    "        if(max(a_freq) > maxDensities_freq):\n",
    "            maxDensities_freq = max(a_freq)\n",
    "            maxFreqPc = a_key\n",
    "        else:\n",
    "            continue \n",
    "    print(\"The maximu freq correspond to %s\" %(maxFreqPc))\n",
    "            \n",
    "    for a_key in dicDensities.keys():\n",
    "        a_freq, _ = np.histogram(dicDensities[a_key], bins=bins_of_ref)\n",
    "        # Scale the frequencies\n",
    "        a_freq = a_freq/maxDensities_freq\n",
    "        # Bar parameters\n",
    "        binscenters = (bins_of_ref[:-1] + bins_of_ref[1:]) / 2 \n",
    "        width = (bins_of_ref[1]-bins_of_ref[0])\n",
    "        #Plot\n",
    "        plt.bar(binscenters/max(bins_of_ref), a_freq, width/max(bins_of_ref), align='center')\n",
    "        legends.append(a_key)\n",
    "        plt.legend(legends)\n",
    "        "
   ]
  },
  {
   "cell_type": "markdown",
   "id": "complete-stylus",
   "metadata": {},
   "source": [
    "# Load pointclouds"
   ]
  },
  {
   "cell_type": "code",
   "execution_count": null,
   "id": "challenging-database",
   "metadata": {},
   "outputs": [],
   "source": [
    "def load_datas(path, files_format=\"txt\"):\n",
    "    \"\"\"\n",
    "    Create a dictionary with the numpy arrays that represent each \n",
    "    point cloud \n",
    "    \n",
    "    :Arguments:\n",
    "        :path: str, Path to the folder with the point clouds\n",
    "        :files_format: str, String with the file format, default: txt\n",
    "    :Output:\n",
    "        dict, {'file_name0':np.array[] .... 'file_nameN':np.array[]}\n",
    "    \"\"\"\n",
    "    files = glob.glob( os.path.join( path, \"*.%s\" %(files_format)) )\n",
    "    print(\"-> Found %i files\\n\" %(len(files)))\n",
    "    datas = {}\n",
    "    for  idx1, afile in enumerate(files):\n",
    "        pointcloud_name = os.path.split(afile)[-1].split(\".\")[0]\n",
    "        print(\"  -> Load file [%i/%i]\" %(idx1+1, len(files)), end=\"\\r\" if (idx1<len(files)) else \"\\n\" )\n",
    "        try:\n",
    "            datas[pointcloud_name] = np.loadtxt(afile)[:,0:3]\n",
    "        except ValueError as err:\n",
    "            datas[pointcloud_name] = np.loadtxt(afile, delimiter=\",\")[:,0:3]\n",
    "    return datas"
   ]
  },
  {
   "cell_type": "markdown",
   "id": "proud-volunteer",
   "metadata": {},
   "source": [
    "# Calculate the point cloud densities -- Density per point "
   ]
  },
  {
   "cell_type": "code",
   "execution_count": null,
   "id": "crude-payday",
   "metadata": {},
   "outputs": [],
   "source": [
    "def compute_densities(datas, radius=0.1):\n",
    "    pcEval = PointCloudFEvaluator()\n",
    "    densities = {}\n",
    "    for  idx1, (afile,a_pc) in enumerate(datas.items()):\n",
    "        print(\"Density file [%i/%i]\" %(idx1+1, len(datas)), end=\"\\r\" if (idx1<len(datas)) else \"\\n\" )\n",
    "        densities[afile] = pcEval.get_point_cloud_density(a_pc, radius)\n",
    "    return densities"
   ]
  },
  {
   "cell_type": "code",
   "execution_count": null,
   "id": "laughing-flavor",
   "metadata": {},
   "outputs": [],
   "source": [
    "def compute_densities2(path, radius=0.1):\n",
    "    print(\" -> Loading Data\")\n",
    "    real_data_pointclouds = load_datas(path)\n",
    "    print(\" -> Calculating Densities\")\n",
    "    real_scans_densities = compute_densities(real_data_pointclouds, radius=radius)\n",
    "    print(\"-> OK\")\n",
    "    return real_scans_densities "
   ]
  },
  {
   "cell_type": "markdown",
   "id": "dynamic-absorption",
   "metadata": {},
   "source": [
    "# Start Processing "
   ]
  },
  {
   "cell_type": "code",
   "execution_count": null,
   "id": "organic-times",
   "metadata": {},
   "outputs": [],
   "source": [
    "real_data_path =  \"/home/jprb/Documents/annotated_real_data/noFloor/\"\n",
    "synthetic_sres006 = \"/home/jprb/Documents/synthetic_exp/220725_new_virtual_scan/to_evaluate/sress_006/\""
   ]
  },
  {
   "cell_type": "code",
   "execution_count": null,
   "id": "acoustic-squad",
   "metadata": {},
   "outputs": [],
   "source": [
    "real_scans_densities = compute_densities2(real_data_path)"
   ]
  },
  {
   "cell_type": "code",
   "execution_count": null,
   "id": "banned-partner",
   "metadata": {},
   "outputs": [],
   "source": [
    "densities_synthetic = compute_densities2(synthetic_sres006)"
   ]
  },
  {
   "cell_type": "code",
   "execution_count": null,
   "id": "female-milton",
   "metadata": {},
   "outputs": [],
   "source": [
    "dict2plot =  {\n",
    "                \"real densities\" : np.concatenate(list(real_scans_densities.values())),\n",
    "                \"fake_densities\" : np.concatenate(list(densities_synthetic.values())),\n",
    "              }"
   ]
  },
  {
   "cell_type": "code",
   "execution_count": null,
   "id": "heard-rabbit",
   "metadata": {},
   "outputs": [],
   "source": [
    "compare_densities(dict2plot, nbins=100)"
   ]
  }
 ],
 "metadata": {
  "kernelspec": {
   "display_name": "Python 3",
   "language": "python",
   "name": "python3"
  },
  "language_info": {
   "codemirror_mode": {
    "name": "ipython",
    "version": 3
   },
   "file_extension": ".py",
   "mimetype": "text/x-python",
   "name": "python",
   "nbconvert_exporter": "python",
   "pygments_lexer": "ipython3",
   "version": "3.6.12"
  }
 },
 "nbformat": 4,
 "nbformat_minor": 5
}
